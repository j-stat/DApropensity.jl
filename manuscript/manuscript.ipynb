{
 "cells": [
  {
   "cell_type": "markdown",
   "metadata": {},
   "source": [
    "# Manuscript simulations\n",
    "\n",
    "This notebook runs the `simulate` and `computePS` functions from the `DAPropensity.jl` package using an instrument simulated from x function, then runs the IV regression and latent IV regression and compares them for the manuscript \"xxxxxxxx\"."
   ]
  },
  {
   "cell_type": "code",
   "execution_count": null,
   "metadata": {
    "vscode": {
     "languageId": "julia"
    }
   },
   "outputs": [],
   "source": [
    "using DAPropensity\n",
    "using DataFrames\n",
    "using FixedEffectsModel"
   ]
  }
 ],
 "metadata": {
  "language_info": {
   "name": "python"
  }
 },
 "nbformat": 4,
 "nbformat_minor": 2
}
